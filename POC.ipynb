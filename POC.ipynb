{
 "cells": [
  {
   "cell_type": "code",
   "execution_count": 4,
   "metadata": {},
   "outputs": [],
   "source": [
    "import numpy as np\n",
    "import pandas as pd\n",
    "import random\n",
    "import seaborn as sns\n",
    "import scipy\n",
    "import math"
   ]
  },
  {
   "cell_type": "code",
   "execution_count": 2,
   "metadata": {},
   "outputs": [],
   "source": [
    "class Bernoulli:\n",
    "    \"\"\"\n",
    "    The Bernoulli distribution is a discrete probability distribution of a random variable.\n",
    "    The distribution has the value 1 with probability p and the value 0 with q = 1-p. \n",
    "    The Bernoulli is identical to the binomial distribution with n=1.\n",
    "    One example of a Bernoulli distribution is a coin toss.\n",
    "    \"\"\"\n",
    "    \n",
    "    def __init__(self, p: float):\n",
    "        assert isinstance(p, float)\n",
    "        assert 0 <= p <= 1\n",
    "        self.p = p\n",
    "    \n",
    "    def generate_random(self):\n",
    "        \"\"\"Return a random variable from a Bernoulli distribution\"\"\"\n",
    "        random_float = random.random()\n",
    "        return 1*(random_float < self.p) + 0\n",
    "    \n",
    "    def expected_value(self):\n",
    "        \"\"\"Return the expected value of a Bernoulli distribution\"\"\"\n",
    "        return self.p\n",
    "    \n",
    "    def variance(self):\n",
    "        \"\"\"Return the variance of a Bernoulli distribution\"\"\"\n",
    "        return self.p*(1-self.p)\n",
    "    "
   ]
  },
  {
   "cell_type": "code",
   "execution_count": 3,
   "metadata": {},
   "outputs": [],
   "source": [
    "class Geometric:\n",
    "    \"\"\"\n",
    "    The geometric distribution is a distribution of n Bernoulli(p) trials required to get one success. In other words,\n",
    "    there are n-1 Bernoulli failures before one Bernoulli success. The support is X = {1,2,3,...}.\n",
    "\n",
    "    An example of a geometric distribution is the number of times a die must be thrown until a particular value occurs,\n",
    "    which would be geometric(0.6)\n",
    "    \"\"\"\n",
    "    \n",
    "    def __init__(self, p: float):\n",
    "        assert isinstance(p, float)\n",
    "        assert 0 <= p <= 1\n",
    "        self.p = p\n",
    "    \n",
    "    def generate_random(self):\n",
    "        \"\"\"Return a random variable from a Geometric distribution\"\"\"\n",
    "        U = random.random()\n",
    "        \n",
    "        # the CDF is 1-(1-p)^floor(x)\n",
    "        # the inverse of the CDF is log_(1-p) of (-U-1) = x\n",
    "        # given the distribution of U-1 is the same as the distribution of U and \n",
    "        # given ln(x)/ln(y) = log_y(x) we can simplify to\n",
    "        # x = ln(U)/ln(1-p) + 1\n",
    "\n",
    "        x = np.log(U) / np.log(1-self.p)\n",
    "        return int(np.floor(x)+1) \n",
    "    \n",
    "    def expected_value(self):\n",
    "        \"\"\"Return the expected value of a Geometric distribution\"\"\"\n",
    "        return 1/self.p\n",
    "    \n",
    "    def variance(self):\n",
    "        \"\"\"Return the variance of a Geometric distribution\"\"\"\n",
    "        return (1-self.p) / (self.p)**2"
   ]
  },
  {
   "cell_type": "code",
   "execution_count": 4,
   "metadata": {},
   "outputs": [],
   "source": [
    "class Exponential:\n",
    "    \"\"\"\n",
    "    The exponential distribution is the distribution of the distance between events in a Poisson counting process.\n",
    "\n",
    "    An example of an exponential distribution is inter-arrival times in a queue.\n",
    "\n",
    "    The support (lambda), which represents the average distence between Poisson events, falls between 0 and infinity\n",
    "    \"\"\"\n",
    "    \n",
    "    def __init__(self, lambda_param: float):\n",
    "        assert isinstance(lambda_param, (float, int))\n",
    "        assert 0 < lambda_param\n",
    "        self.lam = lambda_param\n",
    "        # note that we don't want to say \"lambda\" alone since python uses this for defining lambda functions :)\n",
    "    \n",
    "    def generate_random(self):\n",
    "        \"\"\"Return a random variable from an exponential distribution\"\"\"\n",
    "        \n",
    "        # the CDF is 1-exp(-lambda * x)\n",
    "        # so the inverse is X = (-1/lambda)ln(1-U) which is equivalent to (-1/lambda)ln(U)\n",
    "\n",
    "        U = random.random()\n",
    "        x = (-1 / self.lam) * np.log(U)\n",
    "        return x\n",
    "    \n",
    "    def expected_value(self):\n",
    "        \"\"\"Return the expected value of an exponential distribution\"\"\"\n",
    "        return 1/self.lam\n",
    "    \n",
    "    def variance(self):\n",
    "        \"\"\"Return the variance of an exponential distribution\"\"\"\n",
    "        return 1/(self.lam**2)"
   ]
  },
  {
   "cell_type": "code",
   "execution_count": 5,
   "metadata": {},
   "outputs": [],
   "source": [
    "class Uniform:\n",
    "    \"\"\"\n",
    "    The continuous uniform distribution is bounded by the parameters [a,b]. As this distribution is uniform,\n",
    "    the PDF is 1/(b-a) for a<= x <=b and 0 elsewhere; in other words, the probability distribution is equal for anywhere\n",
    "    in the range between a and b\n",
    "    \"\"\"\n",
    "    \n",
    "    def __init__(self, a: float, b: float):\n",
    "        assert isinstance(a, (float, int))\n",
    "        assert isinstance(b, (float, int))\n",
    "        assert 0 < a < b\n",
    "        self.a = a\n",
    "        self.b = b\n",
    "    \n",
    "    def generate_random(self):\n",
    "        \"\"\"Return a random variable from a uniform distribution\"\"\"\n",
    "        \n",
    "        U = random.random()\n",
    "        x = self.a + (self.b-self.a)*U\n",
    "        return x\n",
    "    \n",
    "    def expected_value(self):\n",
    "        \"\"\"Return the expected value of a uniform distribution\"\"\"\n",
    "        return (self.a + self.b) / 2\n",
    "    \n",
    "    def variance(self):\n",
    "        \"\"\"Return the variance of a uniform distribution\"\"\"\n",
    "        return ((self.b - self.a) ** 2) / 12"
   ]
  },
  {
   "cell_type": "code",
   "execution_count": 6,
   "metadata": {},
   "outputs": [],
   "source": [
    "class Weibull:\n",
    "    \"\"\"\n",
    "    The Weibull distribution primarily models time between events, particularly time to failure.\n",
    "\n",
    "    The Weibull distribution takes two parameters, alpha and beta:\n",
    "    - lambda is the \"shape\" parameter\n",
    "    - k is the \"scale\" parameter\n",
    "\n",
    "    For lambda < 1, event rate (e.g. failures) decreases over time, e.g. modeling defects that fail early\n",
    "    For lambda = 1, event rate is static over time\n",
    "    For lambda > 1, event rate increases over time, e.g. modeling parts wearing out\n",
    "    \"\"\"\n",
    "    \n",
    "    def __init__(self, lam: float, k: float):\n",
    "        assert isinstance(lam, (float, int))\n",
    "        assert isinstance(k, (float, int))\n",
    "        assert 0 < lam\n",
    "        assert 0 < k\n",
    "        self.lam = lam\n",
    "        self.k = k\n",
    "    \n",
    "    def generate_random(self):\n",
    "        \"\"\"Return a random variable from a Weibull distribution\"\"\"\n",
    "        # X = λ * [-ln(U)] ^ (1/k)\n",
    "        U = random.random()\n",
    "        x = self.lam * (-np.log(U))**(1/self.k)\n",
    "        return x\n",
    "    \n",
    "    def expected_value(self):\n",
    "        \"\"\"Return the expected value of a Weibull distribution\"\"\"\n",
    "        # E[X] = λ * Γ(1 + 1/k)\n",
    "        return self.lam * math.gamma(1 + 1/self.k)\n",
    "    \n",
    "    def variance(self):\n",
    "        \"\"\"Return the variance of a Weibull distribution\"\"\"\n",
    "        # Var(X) = λ^2 * (Γ(1 + 2/k) - Γ(1 + 1/k)^2)\n",
    "        return (self.lam ** 2) * ( math.gamma(1+2/self.k ) - math.gamma(1+1/self.k)**2  ) "
   ]
  },
  {
   "cell_type": "code",
   "execution_count": 18,
   "metadata": {},
   "outputs": [],
   "source": [
    "class Triangular:\n",
    "    \"\"\"The symmetrical triangular distribution is a continuous probability distribution with lower bound a, and upper bound b.\n",
    "    The distribution is shaped like a triangle - the pdf approaches zero at a and b, and is at its highest at (b-a)/2.\n",
    "    This distribution can be modeled as the sum of two uniform distributions.\n",
    "    \n",
    "    The distribution is sometimes used when the underlying population distribution is not well known, but upper and lower bound estimates are available\"\"\"\n",
    "\n",
    "    def __init__(self, a: float, c: float, b: float):\n",
    "        assert isinstance(a, (float, int))\n",
    "        assert isinstance(b, (float, int))\n",
    "        assert isinstance(c, (float, int))\n",
    "        assert(a < c < b)\n",
    "        self.a = a\n",
    "        self.b = b\n",
    "        self.c = c\n",
    "    \n",
    "    def generate_random(self):\n",
    "        \n",
    "        U = random.random()\n",
    "\n",
    "        threshold = (self.c - self.a) / (self.b - self.a)\n",
    "        if U < threshold:\n",
    "            x = self.a + np.sqrt((self.b-self.a)*(self.c-self.a)*U)\n",
    "        elif U >= threshold:\n",
    "            x = (self.b) - np.sqrt((self.b-self.a)*(self.b-self.c)*(1-U))\n",
    "        return x\n",
    "    \n",
    "    def expected_value(self):\n",
    "        return (self.a+self.b+self.c)/3\n",
    "    \n",
    "    def variance(self):\n",
    "        var = (self.a**2 + self.b**2 + self.c**2 \n",
    "               - self.a*self.b  - self.a*self.c - self.b*self.c) / 18\n",
    "        return var\n",
    "    \n"
   ]
  },
  {
   "cell_type": "code",
   "execution_count": 29,
   "metadata": {},
   "outputs": [],
   "source": [
    "class Normal:\n",
    "    \"\"\"Docstring\"\"\"\n",
    "\n",
    "    def __init__(self, mu: float, var: float):\n",
    "        assert isinstance(mu, (float, int))\n",
    "        assert isinstance(var, (float, int))\n",
    "        assert var != 0\n",
    "        self.mu = mu\n",
    "        self.var = var\n",
    "        self.sigma = np.sqrt(var)\n",
    "    \n",
    "    def generate_random(self):\n",
    "        \n",
    "        while True:\n",
    "            U1 = random.random()\n",
    "            U2 = random.random()\n",
    "\n",
    "            V1 = (2*U1-1)\n",
    "            V2 = (2*U2-1)\n",
    "\n",
    "            W = V1**2 + V2**2\n",
    "\n",
    "            if W <=1:\n",
    "                break\n",
    "        \n",
    "        Y = np.sqrt(-2 * np.log(W)/W)\n",
    "\n",
    "        Z = V1*Y\n",
    "\n",
    "        return self.mu + self.sigma*Z\n",
    "    \n",
    "    def expected_value(self):\n",
    "        return self.mu\n",
    "    \n",
    "    def variance(self):\n",
    "        return self.var\n",
    "    \n",
    "    "
   ]
  },
  {
   "cell_type": "code",
   "execution_count": 31,
   "metadata": {},
   "outputs": [],
   "source": [
    "class Erlang:\n",
    "    \"\"\"Docstring\"\"\"\n",
    "\n",
    "    def __init__(self, k: int, lam: float):\n",
    "        assert isinstance(lam, (float, int))\n",
    "        assert isinstance(k, int)\n",
    "        assert 1 <= k <= 100_000_000 # limit k\n",
    "        assert lam > 0\n",
    "        self.k = k\n",
    "        self.lam = lam\n",
    "    \n",
    "    def generate_random(self):\n",
    "        \n",
    "        arr = np.array([random.random() for _ in range(self.k)])\n",
    "        prod = np.prod(arr)\n",
    "\n",
    "        x = (-1/self.lam) * np.log(prod)\n",
    "\n",
    "        return x\n",
    "    \n",
    "    def expected_value(self):\n",
    "        return self.k / self.lam\n",
    "    \n",
    "    def variance(self):\n",
    "        return self.k / (self.lam**2)\n",
    "    "
   ]
  },
  {
   "cell_type": "code",
   "execution_count": 43,
   "metadata": {},
   "outputs": [],
   "source": [
    "er = Erlang(7, 2)"
   ]
  },
  {
   "cell_type": "code",
   "execution_count": 44,
   "metadata": {},
   "outputs": [],
   "source": [
    "er_list = [er.generate_random() for i in range(100_000)]"
   ]
  },
  {
   "cell_type": "code",
   "execution_count": 45,
   "metadata": {},
   "outputs": [
    {
     "data": {
      "text/plain": [
       "<Axes: >"
      ]
     },
     "execution_count": 45,
     "metadata": {},
     "output_type": "execute_result"
    },
    {
     "data": {
      "image/png": "[encoded data removed]",
      "text/plain": [
       "<Figure size 640x480 with 1 Axes>"
      ]
     },
     "metadata": {},
     "output_type": "display_data"
    }
   ],
   "source": [
    "pd.Series(er_list).hist(bins=20)"
   ]
  },
  {
   "cell_type": "code",
   "execution_count": 36,
   "metadata": {},
   "outputs": [
    {
     "data": {
      "text/plain": [
       "3.9616072987676563"
      ]
     },
     "execution_count": 36,
     "metadata": {},
     "output_type": "execute_result"
    }
   ],
   "source": [
    "np.random."
   ]
  },
  {
   "cell_type": "code",
   "execution_count": 27,
   "metadata": {},
   "outputs": [],
   "source": [
    "n = [norm.generate_random() for _ in range(1000000)]"
   ]
  },
  {
   "cell_type": "code",
   "execution_count": 28,
   "metadata": {},
   "outputs": [
    {
     "data": {
      "text/plain": [
       "<Axes: >"
      ]
     },
     "execution_count": 28,
     "metadata": {},
     "output_type": "execute_result"
    },
    {
     "data": {
      "image/png": "[encoded data removed]",
      "text/plain": [
       "<Figure size 640x480 with 1 Axes>"
      ]
     },
     "metadata": {},
     "output_type": "display_data"
    }
   ],
   "source": [
    "pd.Series(n).hist(bins=50)"
   ]
  },
  {
   "cell_type": "code",
   "execution_count": null,
   "metadata": {},
   "outputs": [],
   "source": []
  }
 ],
 "metadata": {
  "kernelspec": {
   "display_name": ".venv",
   "language": "python",
   "name": "python3"
  },
  "language_info": {
   "codemirror_mode": {
    "name": "ipython",
    "version": 3
   },
   "file_extension": ".py",
   "mimetype": "text/x-python",
   "name": "python",
   "nbconvert_exporter": "python",
   "pygments_lexer": "ipython3",
   "version": "3.12.2"
  }
 },
 "nbformat": 4,
 "nbformat_minor": 2
}
